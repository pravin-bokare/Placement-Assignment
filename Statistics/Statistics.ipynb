{
 "cells": [
  {
   "cell_type": "markdown",
   "id": "c5cd5834",
   "metadata": {},
   "source": [
    "# Q-1. A university wants to understand the relationship between the SAT scores of its applicants and their college GPA. They collect data on 500 students, including their SAT scores (out of 1600) and their college GPA (on a 4.0 scale). They find that the correlation coefficient between SAT scores and college GPA is 0.7. What does this correlation coefficient indicate about the relationship between SAT scores and college GPA?"
   ]
  },
  {
   "cell_type": "code",
   "execution_count": null,
   "id": "dd9f3850",
   "metadata": {},
   "outputs": [],
   "source": []
  },
  {
   "cell_type": "markdown",
   "id": "0bfb5517",
   "metadata": {},
   "source": [
    "# Q-2. Consider a dataset containing the heights (in centimeters) of 1000 individuals. The mean height is 170 cm with a standard deviation of 10 cm. The dataset is approximately normally distributed, and its skewness is approximately zero. Based on this information, answer the following questions:\n",
    "a. What percentage of individuals in the dataset have heights between 160 cm\n",
    "and 180 cm?\n",
    "\n",
    "b. If we randomly select 100 individuals from the dataset, what is the probability that their average height is greater than 175 cm?\n",
    "\n",
    "c. Assuming the dataset follows a normal distribution, what is the z-score\n",
    "corresponding to a height of 185 cm?\n",
    "\n",
    "d. We know that 5% of the dataset has heights below a certain value. What is the approximate height corresponding to this threshold?\n",
    "\n",
    "e. Calculate the coefficient of variation (CV) for the dataset.\n",
    "\n",
    "f. Calculate the skewness of the dataset and interpret the result."
   ]
  },
  {
   "cell_type": "markdown",
   "id": "259ed959",
   "metadata": {},
   "source": [
    "A.\n",
    "mean (m) = 170\n",
    "standard deviation (sd) = 10\n",
    "\n",
    "Z1 = (160 - 170) / 10 = -1\n",
    "Z2 = (180 - 170) / 10 = 1\n",
    "\n",
    "Using a standard normal distribution table or a calculator, \n",
    "we can find the area under the curve between -1 and 1, which represents \n",
    "the percentage of individuals with heights between 160 cm and 180 cm.\n",
    "Approximately area is 68.2%.\n",
    "\n",
    "\n",
    "\n",
    "B.\n",
    "To calculate the probability that the average height of a randomly selected group of 100 individuals is greater than 175 cm, we can use the Central Limit Theorem. The Central Limit Theorem states that the distribution of sample means approaches a normal distribution with a mean equal to the population mean and a standard deviation equal to the population standard deviation divided by the square root of the sample size.\n",
    "\n",
    "The standard deviation of the sample means is calculated as σ / sqrt(n), where σ is the population standard deviation and n is the sample size.\n",
    "\n",
    "In this case, the population standard deviation is 10 cm, and the sample size is 100.\n",
    "\n",
    "Standard deviation of the sample means = 10 / sqrt(100) = 10 / 10 = 1\n",
    "\n",
    "Now, we can calculate the z-score for a height of 175 cm using the formula: z = (x - μ) / σ, where x is the height, μ is the mean, and σ is the standard deviation.\n",
    "\n",
    "z = (175 - 170) / 1 = 5\n",
    "\n",
    "Using a standard normal distribution table or a statistical software, we can find the area to the right of z = 5, which represents the probability that the average height is greater than 175 cm.\n",
    "\n",
    "The area to the right of z = 5 is very close to 0. Therefore, the probability that the average height of a randomly selected group of 100 individuals is greater than 175 cm is nearly 0\n",
    "\n",
    "\n",
    "\n",
    "C.\n",
    "To find the z-score corresponding to a height of 185 cm, we can use the formula:\n",
    "Z = (x - population mean) / population standard deviation\n",
    "\n",
    "Z = (185 - 170) / 10 = 1.5\n",
    "\n",
    "\n",
    "\n",
    "D.\n",
    "To find the approximate height corresponding to the threshold where 5% of the dataset has heights below that value, we need to find the z-score that corresponds to the 5th percentile.\n",
    "\n",
    "Using a standard normal distribution table or a statistical software, we can find the z-score that corresponds to the 5th percentile. In this case, the z-score is approximately -1.645.\n",
    "\n",
    "Now, we can calculate the height corresponding to this z-score using the formula: x = μ + z * σ, where x is the height, μ is the mean, z is the z-score, and σ is the standard deviation.\n",
    "\n",
    "x = 170 + (-1.645) * 10 = 170\n",
    "\n",
    "\n",
    "\n",
    "E. \n",
    "The coefficient of variation (CV) is calculated as the ratio of the standard deviation to the mean, multiplied by 100 to express it as a percentage. The formula for CV is:\n",
    "CV = (standard deviation / mean) * 100\n",
    "CV = (10/170)*10\n",
    "CV = 5.88\n",
    "\n",
    "\n",
    "\n",
    "F. \n",
    "Given skewness is zero\n"
   ]
  },
  {
   "cell_type": "markdown",
   "id": "83bd68d2",
   "metadata": {},
   "source": [
    "# Q-3. Consider the ‘Blood Pressure Before’ and ‘Blood Pressure After’ columns from the data and calculate the following"
   ]
  },
  {
   "cell_type": "code",
   "execution_count": 1,
   "id": "6b99d319",
   "metadata": {},
   "outputs": [],
   "source": [
    "import pandas as pd\n",
    "import numpy as np\n",
    "import matplotlib.pyplot as plt\n",
    "from scipy import stats\n",
    "\n",
    "# Load the data from CSV file\n",
    "df = pd.read_csv('data.csv')"
   ]
  },
  {
   "cell_type": "code",
   "execution_count": 3,
   "id": "6fbef82e",
   "metadata": {},
   "outputs": [
    {
     "name": "stdout",
     "output_type": "stream",
     "text": [
      "Dispersion (Range) in 'Blood Pressure Before (mmHg)': 28\n",
      "Dispersion (Range) in 'Blood Pressure After (mmHg)': 23\n"
     ]
    }
   ],
   "source": [
    "# Measure the dispersion in both and interpret the results.\n",
    "# Calculate dispersion (range) in 'Blood Pressure Before' and 'Blood Pressure After' columns\n",
    "dispersion_before = df[' Blood Pressure Before (mmHg)'].max() - df[' Blood Pressure Before (mmHg)'].min()\n",
    "dispersion_after = df[' Blood Pressure After (mmHg)'].max() - df[' Blood Pressure After (mmHg)'].min()\n",
    "\n",
    "# Interpret the results\n",
    "print(\"Dispersion (Range) in 'Blood Pressure Before (mmHg)':\", dispersion_before)\n",
    "print(\"Dispersion (Range) in 'Blood Pressure After (mmHg)':\", dispersion_after)"
   ]
  },
  {
   "cell_type": "markdown",
   "id": "e6afb321",
   "metadata": {},
   "source": [
    "# Q-4. A group of 20 friends decide to play a game in which they each write a number between 1 and 20 on a slip of paper and put it into a hat. They then draw one slip of paper at random. What is the probability that the number on the slip of paper is a perfect square (i.e., 1, 4, 9, or 16)?"
   ]
  },
  {
   "cell_type": "markdown",
   "id": "27273c70",
   "metadata": {},
   "source": [
    "perfect squares from 1 to 20 are 1, 4, 9, 16\n",
    "\n",
    "p = 4/20 = 0.2\n",
    "\n",
    "probability = 20%"
   ]
  },
  {
   "cell_type": "markdown",
   "id": "78a9db70",
   "metadata": {},
   "source": [
    "# Q-5. A certain city has two taxi companies: Company A has 80% of the taxis and Company B has 20% of the taxis. Company A's taxis have a 95% success rate for picking up passengers on time, while Company B's taxis have a 90% success rate. If a randomly selected taxi is late, what is the probability that it belongs to Company A?"
   ]
  },
  {
   "cell_type": "code",
   "execution_count": null,
   "id": "b5add451",
   "metadata": {},
   "outputs": [],
   "source": []
  },
  {
   "cell_type": "markdown",
   "id": "0c48f33a",
   "metadata": {},
   "source": [
    "# Q-6 A pharmaceutical company is developing a drug that is supposed to reduce blood pressure. They conduct a clinical trial with 100 patients and record their blood pressure before and after taking the drug. The company wants to know if the change in blood pressure follows a normal distribution."
   ]
  },
  {
   "cell_type": "code",
   "execution_count": 4,
   "id": "ba906328",
   "metadata": {},
   "outputs": [
    {
     "name": "stdout",
     "output_type": "stream",
     "text": [
      "The change in blood pressure does not follow a normal distribution.\n"
     ]
    }
   ],
   "source": [
    "import numpy as np\n",
    "import pandas as pd\n",
    "from scipy import stats\n",
    "\n",
    "df = pd.read_csv('data.csv')\n",
    "\n",
    "# Define the blood pressure data before and after taking the drug\n",
    "blood_pressure_before = df[' Blood Pressure Before (mmHg)']  # List or array of blood pressure values before taking the drug\n",
    "blood_pressure_after = df[' Blood Pressure After (mmHg)']  # List or array of blood pressure values after taking the drug\n",
    "\n",
    "# Compute the differences in blood pressure\n",
    "blood_pressure_diff = np.array(blood_pressure_after) - np.array(blood_pressure_before)\n",
    "\n",
    "# Perform the Shapiro-Wilk test\n",
    "p_value = stats.shapiro(blood_pressure_diff).pvalue\n",
    "\n",
    "# Interpret the result\n",
    "alpha = 0.05  # Significance level\n",
    "if p_value > alpha:\n",
    "    print(\"The change in blood pressure follows a normal distribution.\")\n",
    "else:\n",
    "    print(\"The change in blood pressure does not follow a normal distribution.\")\n"
   ]
  },
  {
   "cell_type": "markdown",
   "id": "659a8951",
   "metadata": {},
   "source": [
    "# Q-8. The anxiety levels of 10 participants were measured before and after a new therapy. The scores are not normally distributed. Use the Wilcoxon signed-rank test to test whether the therapy had a significant effect on anxiety levels. The data is given below: Participant Before therapy After therapy Difference"
   ]
  },
  {
   "cell_type": "code",
   "execution_count": 7,
   "id": "10274d51",
   "metadata": {},
   "outputs": [
    {
     "name": "stdout",
     "output_type": "stream",
     "text": [
      "The therapy had a significant effect on anxiety levels.\n"
     ]
    }
   ],
   "source": [
    "before_therapy = [10,8,12,15,6,9,11,7,14,10]  # List of anxiety levels before therapy\n",
    "after_therapy = [7,6,10,12,5,8,9,6,12,8]  # List of anxiety levels after therapy\n",
    "statistic, p_value = stats.wilcoxon(before_therapy, after_therapy)\n",
    "alpha = 0.05\n",
    "\n",
    "if p_value < alpha:\n",
    "    print(\"The therapy had a significant effect on anxiety levels.\")\n",
    "else:\n",
    "    print(\"There was no significant effect of the therapy on anxiety levels.\")"
   ]
  },
  {
   "cell_type": "markdown",
   "id": "b4c1b39a",
   "metadata": {},
   "source": [
    "# Q-9. Given the score of students in multiple exams Test the hypothesis that the mean scores of all the students are the same. If not, name the student with the highest score."
   ]
  },
  {
   "cell_type": "code",
   "execution_count": 13,
   "id": "80ba3897",
   "metadata": {},
   "outputs": [
    {
     "name": "stdout",
     "output_type": "stream",
     "text": [
      "The mean scores of the students are the same.\n"
     ]
    }
   ],
   "source": [
    "exam1_scores = [85,70,90,75,95]  # Scores of students in Exam 1\n",
    "exam2_scores = [90,80,85,70,92]  # Scores of students in Exam 2\n",
    "\n",
    "# Perform one-way ANOVA\n",
    "f_statistic, p_value = stats.f_oneway(exam1_scores, exam2_scores)\n",
    "\n",
    "alpha = 0.05  # Set the significance level\n",
    "\n",
    "# Check if the null hypothesis is rejected or not\n",
    "if p_value < alpha:\n",
    "    print(\"The mean scores of the students are not the same.\")\n",
    "    \n",
    "    # Find the student with the highest score\n",
    "    all_scores = exam1_scores + exam2_scores \n",
    "    highest_score = max(all_scores)\n",
    "    \n",
    "    # Find the student(s) with the highest score\n",
    "    highest_scoring_students = [i + 1 for i, score in enumerate(all_scores) if score == highest_score]\n",
    "    print(f\"The student(s) with the highest score is/are: {highest_scoring_students}\")\n",
    "    \n",
    "else:\n",
    "    print(\"The mean scores of the students are the same.\")"
   ]
  },
  {
   "cell_type": "code",
   "execution_count": null,
   "id": "e21b0409",
   "metadata": {},
   "outputs": [],
   "source": []
  }
 ],
 "metadata": {
  "kernelspec": {
   "display_name": "Python 3 (ipykernel)",
   "language": "python",
   "name": "python3"
  },
  "language_info": {
   "codemirror_mode": {
    "name": "ipython",
    "version": 3
   },
   "file_extension": ".py",
   "mimetype": "text/x-python",
   "name": "python",
   "nbconvert_exporter": "python",
   "pygments_lexer": "ipython3",
   "version": "3.8.10"
  }
 },
 "nbformat": 4,
 "nbformat_minor": 5
}
